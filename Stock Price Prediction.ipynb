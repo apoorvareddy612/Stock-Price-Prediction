{
 "cells": [
  {
   "cell_type": "code",
   "execution_count": 1,
   "metadata": {},
   "outputs": [],
   "source": [
    "import pandas as pd\n",
    "import quandl\n",
    "import numpy as np\n",
    "from sklearn.preprocessing import MinMaxScaler\n",
    "from sklearn.model_selection import train_test_split\n",
    "from sklearn.linear_model import LinearRegression\n",
    "from sklearn.metrics import mean_squared_error"
   ]
  },
  {
   "cell_type": "code",
   "execution_count": 2,
   "metadata": {},
   "outputs": [],
   "source": [
    "quandl.ApiConfig.api_key = 'kjxmEsp7P7_qP4_jkBnz'"
   ]
  },
  {
   "cell_type": "code",
   "execution_count": 3,
   "metadata": {},
   "outputs": [],
   "source": [
    "df = quandl.get('EOD/AAPl')"
   ]
  },
  {
   "cell_type": "code",
   "execution_count": 4,
   "metadata": {},
   "outputs": [
    {
     "data": {
      "text/html": [
       "<div>\n",
       "<style scoped>\n",
       "    .dataframe tbody tr th:only-of-type {\n",
       "        vertical-align: middle;\n",
       "    }\n",
       "\n",
       "    .dataframe tbody tr th {\n",
       "        vertical-align: top;\n",
       "    }\n",
       "\n",
       "    .dataframe thead th {\n",
       "        text-align: right;\n",
       "    }\n",
       "</style>\n",
       "<table border=\"1\" class=\"dataframe\">\n",
       "  <thead>\n",
       "    <tr style=\"text-align: right;\">\n",
       "      <th></th>\n",
       "      <th>Open</th>\n",
       "      <th>High</th>\n",
       "      <th>Low</th>\n",
       "      <th>Close</th>\n",
       "      <th>Volume</th>\n",
       "      <th>Dividend</th>\n",
       "      <th>Split</th>\n",
       "      <th>Adj_Open</th>\n",
       "      <th>Adj_High</th>\n",
       "      <th>Adj_Low</th>\n",
       "      <th>Adj_Close</th>\n",
       "      <th>Adj_Volume</th>\n",
       "    </tr>\n",
       "    <tr>\n",
       "      <th>Date</th>\n",
       "      <th></th>\n",
       "      <th></th>\n",
       "      <th></th>\n",
       "      <th></th>\n",
       "      <th></th>\n",
       "      <th></th>\n",
       "      <th></th>\n",
       "      <th></th>\n",
       "      <th></th>\n",
       "      <th></th>\n",
       "      <th></th>\n",
       "      <th></th>\n",
       "    </tr>\n",
       "  </thead>\n",
       "  <tbody>\n",
       "    <tr>\n",
       "      <th>2013-09-03</th>\n",
       "      <td>493.10</td>\n",
       "      <td>500.600</td>\n",
       "      <td>487.350</td>\n",
       "      <td>488.580</td>\n",
       "      <td>11854600.0</td>\n",
       "      <td>0.0</td>\n",
       "      <td>1.0</td>\n",
       "      <td>15.619650</td>\n",
       "      <td>15.857223</td>\n",
       "      <td>15.437510</td>\n",
       "      <td>15.476472</td>\n",
       "      <td>331928800.0</td>\n",
       "    </tr>\n",
       "    <tr>\n",
       "      <th>2013-09-04</th>\n",
       "      <td>499.56</td>\n",
       "      <td>502.240</td>\n",
       "      <td>496.280</td>\n",
       "      <td>498.691</td>\n",
       "      <td>12322600.0</td>\n",
       "      <td>0.0</td>\n",
       "      <td>1.0</td>\n",
       "      <td>15.824280</td>\n",
       "      <td>15.909173</td>\n",
       "      <td>15.720381</td>\n",
       "      <td>15.796753</td>\n",
       "      <td>345032800.0</td>\n",
       "    </tr>\n",
       "    <tr>\n",
       "      <th>2013-09-05</th>\n",
       "      <td>500.25</td>\n",
       "      <td>500.680</td>\n",
       "      <td>493.640</td>\n",
       "      <td>495.270</td>\n",
       "      <td>8441700.0</td>\n",
       "      <td>0.0</td>\n",
       "      <td>1.0</td>\n",
       "      <td>15.846136</td>\n",
       "      <td>15.859757</td>\n",
       "      <td>15.636755</td>\n",
       "      <td>15.688388</td>\n",
       "      <td>236367600.0</td>\n",
       "    </tr>\n",
       "    <tr>\n",
       "      <th>2013-09-06</th>\n",
       "      <td>498.44</td>\n",
       "      <td>499.380</td>\n",
       "      <td>489.950</td>\n",
       "      <td>498.220</td>\n",
       "      <td>12840200.0</td>\n",
       "      <td>0.0</td>\n",
       "      <td>1.0</td>\n",
       "      <td>15.788802</td>\n",
       "      <td>15.818578</td>\n",
       "      <td>15.519869</td>\n",
       "      <td>15.781833</td>\n",
       "      <td>359525600.0</td>\n",
       "    </tr>\n",
       "    <tr>\n",
       "      <th>2013-09-09</th>\n",
       "      <td>505.00</td>\n",
       "      <td>507.920</td>\n",
       "      <td>503.480</td>\n",
       "      <td>506.170</td>\n",
       "      <td>12167400.0</td>\n",
       "      <td>0.0</td>\n",
       "      <td>1.0</td>\n",
       "      <td>15.996600</td>\n",
       "      <td>16.089095</td>\n",
       "      <td>15.948451</td>\n",
       "      <td>16.033661</td>\n",
       "      <td>340687200.0</td>\n",
       "    </tr>\n",
       "    <tr>\n",
       "      <th>...</th>\n",
       "      <td>...</td>\n",
       "      <td>...</td>\n",
       "      <td>...</td>\n",
       "      <td>...</td>\n",
       "      <td>...</td>\n",
       "      <td>...</td>\n",
       "      <td>...</td>\n",
       "      <td>...</td>\n",
       "      <td>...</td>\n",
       "      <td>...</td>\n",
       "      <td>...</td>\n",
       "      <td>...</td>\n",
       "    </tr>\n",
       "    <tr>\n",
       "      <th>2017-12-21</th>\n",
       "      <td>174.17</td>\n",
       "      <td>176.020</td>\n",
       "      <td>174.100</td>\n",
       "      <td>175.010</td>\n",
       "      <td>20949896.0</td>\n",
       "      <td>0.0</td>\n",
       "      <td>1.0</td>\n",
       "      <td>41.899570</td>\n",
       "      <td>42.344619</td>\n",
       "      <td>41.882730</td>\n",
       "      <td>42.101646</td>\n",
       "      <td>83799584.0</td>\n",
       "    </tr>\n",
       "    <tr>\n",
       "      <th>2017-12-22</th>\n",
       "      <td>174.68</td>\n",
       "      <td>175.424</td>\n",
       "      <td>174.500</td>\n",
       "      <td>175.010</td>\n",
       "      <td>16349444.0</td>\n",
       "      <td>0.0</td>\n",
       "      <td>1.0</td>\n",
       "      <td>42.022259</td>\n",
       "      <td>42.201241</td>\n",
       "      <td>41.978957</td>\n",
       "      <td>42.101646</td>\n",
       "      <td>65397776.0</td>\n",
       "    </tr>\n",
       "    <tr>\n",
       "      <th>2017-12-26</th>\n",
       "      <td>170.80</td>\n",
       "      <td>171.470</td>\n",
       "      <td>169.679</td>\n",
       "      <td>170.570</td>\n",
       "      <td>33185536.0</td>\n",
       "      <td>0.0</td>\n",
       "      <td>1.0</td>\n",
       "      <td>41.088858</td>\n",
       "      <td>41.250038</td>\n",
       "      <td>40.819183</td>\n",
       "      <td>41.033528</td>\n",
       "      <td>132742144.0</td>\n",
       "    </tr>\n",
       "    <tr>\n",
       "      <th>2017-12-27</th>\n",
       "      <td>170.10</td>\n",
       "      <td>170.780</td>\n",
       "      <td>169.710</td>\n",
       "      <td>170.600</td>\n",
       "      <td>21498213.0</td>\n",
       "      <td>0.0</td>\n",
       "      <td>1.0</td>\n",
       "      <td>40.920461</td>\n",
       "      <td>41.084047</td>\n",
       "      <td>40.826640</td>\n",
       "      <td>41.040745</td>\n",
       "      <td>85992852.0</td>\n",
       "    </tr>\n",
       "    <tr>\n",
       "      <th>2017-12-28</th>\n",
       "      <td>171.00</td>\n",
       "      <td>171.850</td>\n",
       "      <td>170.480</td>\n",
       "      <td>171.080</td>\n",
       "      <td>16480187.0</td>\n",
       "      <td>0.0</td>\n",
       "      <td>1.0</td>\n",
       "      <td>41.136972</td>\n",
       "      <td>41.341454</td>\n",
       "      <td>41.011877</td>\n",
       "      <td>41.156217</td>\n",
       "      <td>65920748.0</td>\n",
       "    </tr>\n",
       "  </tbody>\n",
       "</table>\n",
       "<p>1090 rows × 12 columns</p>\n",
       "</div>"
      ],
      "text/plain": [
       "              Open     High      Low    Close      Volume  Dividend  Split  \\\n",
       "Date                                                                         \n",
       "2013-09-03  493.10  500.600  487.350  488.580  11854600.0       0.0    1.0   \n",
       "2013-09-04  499.56  502.240  496.280  498.691  12322600.0       0.0    1.0   \n",
       "2013-09-05  500.25  500.680  493.640  495.270   8441700.0       0.0    1.0   \n",
       "2013-09-06  498.44  499.380  489.950  498.220  12840200.0       0.0    1.0   \n",
       "2013-09-09  505.00  507.920  503.480  506.170  12167400.0       0.0    1.0   \n",
       "...            ...      ...      ...      ...         ...       ...    ...   \n",
       "2017-12-21  174.17  176.020  174.100  175.010  20949896.0       0.0    1.0   \n",
       "2017-12-22  174.68  175.424  174.500  175.010  16349444.0       0.0    1.0   \n",
       "2017-12-26  170.80  171.470  169.679  170.570  33185536.0       0.0    1.0   \n",
       "2017-12-27  170.10  170.780  169.710  170.600  21498213.0       0.0    1.0   \n",
       "2017-12-28  171.00  171.850  170.480  171.080  16480187.0       0.0    1.0   \n",
       "\n",
       "             Adj_Open   Adj_High    Adj_Low  Adj_Close   Adj_Volume  \n",
       "Date                                                                 \n",
       "2013-09-03  15.619650  15.857223  15.437510  15.476472  331928800.0  \n",
       "2013-09-04  15.824280  15.909173  15.720381  15.796753  345032800.0  \n",
       "2013-09-05  15.846136  15.859757  15.636755  15.688388  236367600.0  \n",
       "2013-09-06  15.788802  15.818578  15.519869  15.781833  359525600.0  \n",
       "2013-09-09  15.996600  16.089095  15.948451  16.033661  340687200.0  \n",
       "...               ...        ...        ...        ...          ...  \n",
       "2017-12-21  41.899570  42.344619  41.882730  42.101646   83799584.0  \n",
       "2017-12-22  42.022259  42.201241  41.978957  42.101646   65397776.0  \n",
       "2017-12-26  41.088858  41.250038  40.819183  41.033528  132742144.0  \n",
       "2017-12-27  40.920461  41.084047  40.826640  41.040745   85992852.0  \n",
       "2017-12-28  41.136972  41.341454  41.011877  41.156217   65920748.0  \n",
       "\n",
       "[1090 rows x 12 columns]"
      ]
     },
     "execution_count": 4,
     "metadata": {},
     "output_type": "execute_result"
    }
   ],
   "source": [
    "df"
   ]
  },
  {
   "cell_type": "code",
   "execution_count": 5,
   "metadata": {},
   "outputs": [
    {
     "data": {
      "text/html": [
       "<div>\n",
       "<style scoped>\n",
       "    .dataframe tbody tr th:only-of-type {\n",
       "        vertical-align: middle;\n",
       "    }\n",
       "\n",
       "    .dataframe tbody tr th {\n",
       "        vertical-align: top;\n",
       "    }\n",
       "\n",
       "    .dataframe thead th {\n",
       "        text-align: right;\n",
       "    }\n",
       "</style>\n",
       "<table border=\"1\" class=\"dataframe\">\n",
       "  <thead>\n",
       "    <tr style=\"text-align: right;\">\n",
       "      <th></th>\n",
       "      <th>Open</th>\n",
       "      <th>High</th>\n",
       "      <th>Low</th>\n",
       "      <th>Close</th>\n",
       "      <th>Volume</th>\n",
       "      <th>Dividend</th>\n",
       "      <th>Split</th>\n",
       "      <th>Adj_Open</th>\n",
       "      <th>Adj_High</th>\n",
       "      <th>Adj_Low</th>\n",
       "      <th>Adj_Close</th>\n",
       "      <th>Adj_Volume</th>\n",
       "    </tr>\n",
       "  </thead>\n",
       "  <tbody>\n",
       "    <tr>\n",
       "      <th>count</th>\n",
       "      <td>1090.000000</td>\n",
       "      <td>1090.000000</td>\n",
       "      <td>1090.000000</td>\n",
       "      <td>1090.000000</td>\n",
       "      <td>1.090000e+03</td>\n",
       "      <td>1090.000000</td>\n",
       "      <td>1090.000000</td>\n",
       "      <td>1090.000000</td>\n",
       "      <td>1090.000000</td>\n",
       "      <td>1090.000000</td>\n",
       "      <td>1090.000000</td>\n",
       "      <td>1.090000e+03</td>\n",
       "    </tr>\n",
       "    <tr>\n",
       "      <th>mean</th>\n",
       "      <td>194.564537</td>\n",
       "      <td>196.114735</td>\n",
       "      <td>193.016676</td>\n",
       "      <td>194.613130</td>\n",
       "      <td>3.605114e+07</td>\n",
       "      <td>0.015642</td>\n",
       "      <td>1.005505</td>\n",
       "      <td>26.367551</td>\n",
       "      <td>26.578236</td>\n",
       "      <td>26.152043</td>\n",
       "      <td>26.373196</td>\n",
       "      <td>1.931334e+08</td>\n",
       "    </tr>\n",
       "    <tr>\n",
       "      <th>std</th>\n",
       "      <td>160.562848</td>\n",
       "      <td>161.812898</td>\n",
       "      <td>159.407381</td>\n",
       "      <td>160.647536</td>\n",
       "      <td>2.194473e+07</td>\n",
       "      <td>0.175122</td>\n",
       "      <td>0.181735</td>\n",
       "      <td>6.614490</td>\n",
       "      <td>6.640870</td>\n",
       "      <td>6.578682</td>\n",
       "      <td>6.616455</td>\n",
       "      <td>1.112891e+08</td>\n",
       "    </tr>\n",
       "    <tr>\n",
       "      <th>min</th>\n",
       "      <td>90.000000</td>\n",
       "      <td>90.700000</td>\n",
       "      <td>89.470000</td>\n",
       "      <td>90.280000</td>\n",
       "      <td>5.704900e+06</td>\n",
       "      <td>0.000000</td>\n",
       "      <td>1.000000</td>\n",
       "      <td>14.189776</td>\n",
       "      <td>14.561974</td>\n",
       "      <td>14.166335</td>\n",
       "      <td>14.258197</td>\n",
       "      <td>4.590369e+07</td>\n",
       "    </tr>\n",
       "    <tr>\n",
       "      <th>25%</th>\n",
       "      <td>108.042500</td>\n",
       "      <td>108.942500</td>\n",
       "      <td>106.972500</td>\n",
       "      <td>108.007500</td>\n",
       "      <td>2.120714e+07</td>\n",
       "      <td>0.000000</td>\n",
       "      <td>1.000000</td>\n",
       "      <td>22.170235</td>\n",
       "      <td>22.433992</td>\n",
       "      <td>21.948836</td>\n",
       "      <td>22.201030</td>\n",
       "      <td>1.133450e+08</td>\n",
       "    </tr>\n",
       "    <tr>\n",
       "      <th>50%</th>\n",
       "      <td>121.585000</td>\n",
       "      <td>122.504950</td>\n",
       "      <td>120.640000</td>\n",
       "      <td>121.755000</td>\n",
       "      <td>3.248325e+07</td>\n",
       "      <td>0.000000</td>\n",
       "      <td>1.000000</td>\n",
       "      <td>25.781510</td>\n",
       "      <td>26.055842</td>\n",
       "      <td>25.511496</td>\n",
       "      <td>25.789823</td>\n",
       "      <td>1.681963e+08</td>\n",
       "    </tr>\n",
       "    <tr>\n",
       "      <th>75%</th>\n",
       "      <td>156.905000</td>\n",
       "      <td>157.809625</td>\n",
       "      <td>155.744975</td>\n",
       "      <td>156.515000</td>\n",
       "      <td>4.673778e+07</td>\n",
       "      <td>0.000000</td>\n",
       "      <td>1.000000</td>\n",
       "      <td>29.329099</td>\n",
       "      <td>29.541994</td>\n",
       "      <td>29.133958</td>\n",
       "      <td>29.362853</td>\n",
       "      <td>2.394642e+08</td>\n",
       "    </tr>\n",
       "    <tr>\n",
       "      <th>max</th>\n",
       "      <td>649.900000</td>\n",
       "      <td>651.260000</td>\n",
       "      <td>644.470000</td>\n",
       "      <td>647.350000</td>\n",
       "      <td>1.895606e+08</td>\n",
       "      <td>3.290000</td>\n",
       "      <td>7.000000</td>\n",
       "      <td>42.125703</td>\n",
       "      <td>42.628488</td>\n",
       "      <td>42.065561</td>\n",
       "      <td>42.440845</td>\n",
       "      <td>1.065523e+09</td>\n",
       "    </tr>\n",
       "  </tbody>\n",
       "</table>\n",
       "</div>"
      ],
      "text/plain": [
       "              Open         High          Low        Close        Volume  \\\n",
       "count  1090.000000  1090.000000  1090.000000  1090.000000  1.090000e+03   \n",
       "mean    194.564537   196.114735   193.016676   194.613130  3.605114e+07   \n",
       "std     160.562848   161.812898   159.407381   160.647536  2.194473e+07   \n",
       "min      90.000000    90.700000    89.470000    90.280000  5.704900e+06   \n",
       "25%     108.042500   108.942500   106.972500   108.007500  2.120714e+07   \n",
       "50%     121.585000   122.504950   120.640000   121.755000  3.248325e+07   \n",
       "75%     156.905000   157.809625   155.744975   156.515000  4.673778e+07   \n",
       "max     649.900000   651.260000   644.470000   647.350000  1.895606e+08   \n",
       "\n",
       "          Dividend        Split     Adj_Open     Adj_High      Adj_Low  \\\n",
       "count  1090.000000  1090.000000  1090.000000  1090.000000  1090.000000   \n",
       "mean      0.015642     1.005505    26.367551    26.578236    26.152043   \n",
       "std       0.175122     0.181735     6.614490     6.640870     6.578682   \n",
       "min       0.000000     1.000000    14.189776    14.561974    14.166335   \n",
       "25%       0.000000     1.000000    22.170235    22.433992    21.948836   \n",
       "50%       0.000000     1.000000    25.781510    26.055842    25.511496   \n",
       "75%       0.000000     1.000000    29.329099    29.541994    29.133958   \n",
       "max       3.290000     7.000000    42.125703    42.628488    42.065561   \n",
       "\n",
       "         Adj_Close    Adj_Volume  \n",
       "count  1090.000000  1.090000e+03  \n",
       "mean     26.373196  1.931334e+08  \n",
       "std       6.616455  1.112891e+08  \n",
       "min      14.258197  4.590369e+07  \n",
       "25%      22.201030  1.133450e+08  \n",
       "50%      25.789823  1.681963e+08  \n",
       "75%      29.362853  2.394642e+08  \n",
       "max      42.440845  1.065523e+09  "
      ]
     },
     "execution_count": 5,
     "metadata": {},
     "output_type": "execute_result"
    }
   ],
   "source": [
    "df.describe()"
   ]
  },
  {
   "cell_type": "code",
   "execution_count": 6,
   "metadata": {},
   "outputs": [
    {
     "name": "stdout",
     "output_type": "stream",
     "text": [
      "<class 'pandas.core.frame.DataFrame'>\n",
      "DatetimeIndex: 1090 entries, 2013-09-03 to 2017-12-28\n",
      "Data columns (total 12 columns):\n",
      " #   Column      Non-Null Count  Dtype  \n",
      "---  ------      --------------  -----  \n",
      " 0   Open        1090 non-null   float64\n",
      " 1   High        1090 non-null   float64\n",
      " 2   Low         1090 non-null   float64\n",
      " 3   Close       1090 non-null   float64\n",
      " 4   Volume      1090 non-null   float64\n",
      " 5   Dividend    1090 non-null   float64\n",
      " 6   Split       1090 non-null   float64\n",
      " 7   Adj_Open    1090 non-null   float64\n",
      " 8   Adj_High    1090 non-null   float64\n",
      " 9   Adj_Low     1090 non-null   float64\n",
      " 10  Adj_Close   1090 non-null   float64\n",
      " 11  Adj_Volume  1090 non-null   float64\n",
      "dtypes: float64(12)\n",
      "memory usage: 110.7 KB\n"
     ]
    }
   ],
   "source": [
    "df.info()"
   ]
  },
  {
   "cell_type": "code",
   "execution_count": 7,
   "metadata": {},
   "outputs": [
    {
     "data": {
      "text/plain": [
       "Open          1029\n",
       "High          1029\n",
       "Low           1025\n",
       "Close         1017\n",
       "Volume        1089\n",
       "Dividend         7\n",
       "Split            2\n",
       "Adj_Open      1070\n",
       "Adj_High      1070\n",
       "Adj_Low       1066\n",
       "Adj_Close     1069\n",
       "Adj_Volume    1089\n",
       "dtype: int64"
      ]
     },
     "execution_count": 7,
     "metadata": {},
     "output_type": "execute_result"
    }
   ],
   "source": [
    "df.nunique()"
   ]
  },
  {
   "cell_type": "code",
   "execution_count": 8,
   "metadata": {},
   "outputs": [
    {
     "data": {
      "text/plain": [
       "1.0    1089\n",
       "7.0       1\n",
       "Name: Split, dtype: int64"
      ]
     },
     "execution_count": 8,
     "metadata": {},
     "output_type": "execute_result"
    }
   ],
   "source": [
    "df['Split'].value_counts()"
   ]
  },
  {
   "cell_type": "code",
   "execution_count": 9,
   "metadata": {},
   "outputs": [
    {
     "data": {
      "text/plain": [
       "Dividend\n",
       "True        1089\n",
       "False          1\n",
       "dtype: int64"
      ]
     },
     "execution_count": 9,
     "metadata": {},
     "output_type": "execute_result"
    }
   ],
   "source": [
    "(df[['Dividend']]<3.29).value_counts()"
   ]
  },
  {
   "cell_type": "code",
   "execution_count": 10,
   "metadata": {},
   "outputs": [
    {
     "data": {
      "text/plain": [
       "<AxesSubplot:>"
      ]
     },
     "execution_count": 10,
     "metadata": {},
     "output_type": "execute_result"
    },
    {
     "data": {
      "image/png": "[encoded data removed]",
      "text/plain": [
       "<Figure size 792x648 with 2 Axes>"
      ]
     },
     "metadata": {
      "needs_background": "light"
     },
     "output_type": "display_data"
    }
   ],
   "source": [
    "import seaborn as sns\n",
    "import matplotlib.pyplot as plt\n",
    "corr = df.corr()\n",
    "mask  = np.triu(np.ones_like(corr,dtype=bool))\n",
    "f,ax = plt.subplots(figsize=(11,9))\n",
    "cmap = sns.diverging_palette(230,20,as_cmap=True)\n",
    "sns.heatmap(corr,mask=mask,vmax=.3,center=0,square=True,linewidths=.5,cbar_kws={\"shrink\":.5},cmap=cmap)\n"
   ]
  },
  {
   "cell_type": "code",
   "execution_count": 11,
   "metadata": {},
   "outputs": [],
   "source": [
    "#Feature Engineering"
   ]
  },
  {
   "cell_type": "code",
   "execution_count": 12,
   "metadata": {},
   "outputs": [],
   "source": [
    "df['HL-PCT'] = (df['Adj_High'] - df['Adj_Low'])/(df['Adj_Close']*100)"
   ]
  },
  {
   "cell_type": "code",
   "execution_count": 13,
   "metadata": {},
   "outputs": [],
   "source": [
    "df['PCT_change'] = (df['Adj_Close']-df['Adj_Open'])/(df['Adj_Open']*100)"
   ]
  },
  {
   "cell_type": "code",
   "execution_count": 14,
   "metadata": {},
   "outputs": [],
   "source": [
    "df = df.loc[:,['Adj_Close','HL-PCT','PCT_change','Adj_Volume']]"
   ]
  },
  {
   "cell_type": "code",
   "execution_count": 15,
   "metadata": {},
   "outputs": [
    {
     "data": {
      "text/html": [
       "<div>\n",
       "<style scoped>\n",
       "    .dataframe tbody tr th:only-of-type {\n",
       "        vertical-align: middle;\n",
       "    }\n",
       "\n",
       "    .dataframe tbody tr th {\n",
       "        vertical-align: top;\n",
       "    }\n",
       "\n",
       "    .dataframe thead th {\n",
       "        text-align: right;\n",
       "    }\n",
       "</style>\n",
       "<table border=\"1\" class=\"dataframe\">\n",
       "  <thead>\n",
       "    <tr style=\"text-align: right;\">\n",
       "      <th></th>\n",
       "      <th>Adj_Close</th>\n",
       "      <th>HL-PCT</th>\n",
       "      <th>PCT_change</th>\n",
       "      <th>Adj_Volume</th>\n",
       "    </tr>\n",
       "    <tr>\n",
       "      <th>Date</th>\n",
       "      <th></th>\n",
       "      <th></th>\n",
       "      <th></th>\n",
       "      <th></th>\n",
       "    </tr>\n",
       "  </thead>\n",
       "  <tbody>\n",
       "    <tr>\n",
       "      <th>2013-09-03</th>\n",
       "      <td>15.476472</td>\n",
       "      <td>0.000271</td>\n",
       "      <td>-0.000092</td>\n",
       "      <td>331928800.0</td>\n",
       "    </tr>\n",
       "    <tr>\n",
       "      <th>2013-09-04</th>\n",
       "      <td>15.796753</td>\n",
       "      <td>0.000120</td>\n",
       "      <td>-0.000017</td>\n",
       "      <td>345032800.0</td>\n",
       "    </tr>\n",
       "    <tr>\n",
       "      <th>2013-09-05</th>\n",
       "      <td>15.688388</td>\n",
       "      <td>0.000142</td>\n",
       "      <td>-0.000100</td>\n",
       "      <td>236367600.0</td>\n",
       "    </tr>\n",
       "    <tr>\n",
       "      <th>2013-09-06</th>\n",
       "      <td>15.781833</td>\n",
       "      <td>0.000189</td>\n",
       "      <td>-0.000004</td>\n",
       "      <td>359525600.0</td>\n",
       "    </tr>\n",
       "    <tr>\n",
       "      <th>2013-09-09</th>\n",
       "      <td>16.033661</td>\n",
       "      <td>0.000088</td>\n",
       "      <td>0.000023</td>\n",
       "      <td>340687200.0</td>\n",
       "    </tr>\n",
       "    <tr>\n",
       "      <th>...</th>\n",
       "      <td>...</td>\n",
       "      <td>...</td>\n",
       "      <td>...</td>\n",
       "      <td>...</td>\n",
       "    </tr>\n",
       "    <tr>\n",
       "      <th>2017-12-21</th>\n",
       "      <td>42.101646</td>\n",
       "      <td>0.000110</td>\n",
       "      <td>0.000048</td>\n",
       "      <td>83799584.0</td>\n",
       "    </tr>\n",
       "    <tr>\n",
       "      <th>2017-12-22</th>\n",
       "      <td>42.101646</td>\n",
       "      <td>0.000053</td>\n",
       "      <td>0.000019</td>\n",
       "      <td>65397776.0</td>\n",
       "    </tr>\n",
       "    <tr>\n",
       "      <th>2017-12-26</th>\n",
       "      <td>41.033528</td>\n",
       "      <td>0.000105</td>\n",
       "      <td>-0.000013</td>\n",
       "      <td>132742144.0</td>\n",
       "    </tr>\n",
       "    <tr>\n",
       "      <th>2017-12-27</th>\n",
       "      <td>41.040745</td>\n",
       "      <td>0.000063</td>\n",
       "      <td>0.000029</td>\n",
       "      <td>85992852.0</td>\n",
       "    </tr>\n",
       "    <tr>\n",
       "      <th>2017-12-28</th>\n",
       "      <td>41.156217</td>\n",
       "      <td>0.000080</td>\n",
       "      <td>0.000005</td>\n",
       "      <td>65920748.0</td>\n",
       "    </tr>\n",
       "  </tbody>\n",
       "</table>\n",
       "<p>1090 rows × 4 columns</p>\n",
       "</div>"
      ],
      "text/plain": [
       "            Adj_Close    HL-PCT  PCT_change   Adj_Volume\n",
       "Date                                                    \n",
       "2013-09-03  15.476472  0.000271   -0.000092  331928800.0\n",
       "2013-09-04  15.796753  0.000120   -0.000017  345032800.0\n",
       "2013-09-05  15.688388  0.000142   -0.000100  236367600.0\n",
       "2013-09-06  15.781833  0.000189   -0.000004  359525600.0\n",
       "2013-09-09  16.033661  0.000088    0.000023  340687200.0\n",
       "...               ...       ...         ...          ...\n",
       "2017-12-21  42.101646  0.000110    0.000048   83799584.0\n",
       "2017-12-22  42.101646  0.000053    0.000019   65397776.0\n",
       "2017-12-26  41.033528  0.000105   -0.000013  132742144.0\n",
       "2017-12-27  41.040745  0.000063    0.000029   85992852.0\n",
       "2017-12-28  41.156217  0.000080    0.000005   65920748.0\n",
       "\n",
       "[1090 rows x 4 columns]"
      ]
     },
     "execution_count": 15,
     "metadata": {},
     "output_type": "execute_result"
    }
   ],
   "source": [
    "df"
   ]
  },
  {
   "cell_type": "code",
   "execution_count": 16,
   "metadata": {},
   "outputs": [
    {
     "data": {
      "text/plain": [
       "<AxesSubplot:xlabel='Date'>"
      ]
     },
     "execution_count": 16,
     "metadata": {},
     "output_type": "execute_result"
    },
    {
     "data": {
      "image/png": "[encoded data removed]",
      "text/plain": [
       "<Figure size 720x576 with 1 Axes>"
      ]
     },
     "metadata": {
      "needs_background": "light"
     },
     "output_type": "display_data"
    }
   ],
   "source": [
    "df['Adj_Close'].pct_change().plot(figsize=(10,8),grid=True)"
   ]
  },
  {
   "cell_type": "code",
   "execution_count": 17,
   "metadata": {},
   "outputs": [
    {
     "data": {
      "image/png": "[encoded data removed]",
      "text/plain": [
       "<Figure size 720x432 with 1 Axes>"
      ]
     },
     "metadata": {
      "needs_background": "light"
     },
     "output_type": "display_data"
    }
   ],
   "source": [
    "plt.figure(figsize=(10,6))\n",
    "plt.grid(True)\n",
    "plt.plot(df['Adj_Close'])\n",
    "\n",
    "plt.xlabel('Dates')\n",
    "plt.ylabel('Close Price')\n",
    "plt.title('Closing')\n",
    "plt.show()\n"
   ]
  },
  {
   "cell_type": "code",
   "execution_count": 18,
   "metadata": {},
   "outputs": [
    {
     "name": "stdout",
     "output_type": "stream",
     "text": [
      "Shape of df: (1090, 4)\n",
      "Label having total null: 10\n",
      "Shape of label: (1090,) this includes null\n",
      "Date\n",
      "2013-09-03    15.476472\n",
      "2013-09-04    15.796753\n",
      "2013-09-05    15.688388\n",
      "2013-09-06    15.781833\n",
      "2013-09-09    16.033661\n",
      "                ...    \n",
      "2017-12-21    42.101646\n",
      "2017-12-22    42.101646\n",
      "2017-12-26    41.033528\n",
      "2017-12-27    41.040745\n",
      "2017-12-28    41.156217\n",
      "Name: Adj_Close, Length: 1090, dtype: float64\n",
      "Date\n",
      "2013-09-03    14.422914\n",
      "2013-09-04    14.719406\n",
      "2013-09-05    14.960780\n",
      "2013-09-06    14.805882\n",
      "2013-09-09    15.541726\n",
      "                ...    \n",
      "2017-12-21          NaN\n",
      "2017-12-22          NaN\n",
      "2017-12-26          NaN\n",
      "2017-12-27          NaN\n",
      "2017-12-28          NaN\n",
      "Name: Adj_Close, Length: 1090, dtype: float64\n",
      "Shape of y after dropping null (1080,)\n"
     ]
    }
   ],
   "source": [
    "print(\"Shape of df:\",df.shape)\n",
    "\n",
    "label =  df['Adj_Close'].shift(-10)\n",
    "print(\"Label having total null:\",label.isna().sum())\n",
    "print(\"Shape of label:\",label.shape,\"this includes null\")\n",
    "print(df['Adj_Close'])\n",
    "print(label)\n",
    "label.dropna(inplace=True)\n",
    "y = np.array(label)\n",
    "print(\"Shape of y after dropping null\",y.shape)"
   ]
  },
  {
   "cell_type": "code",
   "execution_count": 19,
   "metadata": {},
   "outputs": [
    {
     "data": {
      "text/plain": [
       "(1090, 3)"
      ]
     },
     "execution_count": 19,
     "metadata": {},
     "output_type": "execute_result"
    }
   ],
   "source": [
    "X = df[['Adj_Close','HL-PCT','PCT_change']]\n",
    "X.shape"
   ]
  },
  {
   "cell_type": "code",
   "execution_count": 20,
   "metadata": {},
   "outputs": [
    {
     "data": {
      "text/plain": [
       "(1080, 3)"
      ]
     },
     "execution_count": 20,
     "metadata": {},
     "output_type": "execute_result"
    }
   ],
   "source": [
    "X_late = X[-10:]\n",
    "X = X[:-10]\n",
    "X.shape"
   ]
  },
  {
   "cell_type": "code",
   "execution_count": 22,
   "metadata": {},
   "outputs": [],
   "source": [
    "X_train,X_test,y_train,y_test = train_test_split(X,y,test_size=0.3,random_state=41)\n",
    "scaler = MinMaxScaler().fit(X_train)\n",
    "X_train = scaler.transform(X_train)\n",
    "X_test = scaler.transform(X_test)\n",
    "X_late = scaler.transform(X_late)\n",
    "\n"
   ]
  },
  {
   "cell_type": "code",
   "execution_count": 25,
   "metadata": {},
   "outputs": [
    {
     "name": "stdout",
     "output_type": "stream",
     "text": [
      "Estimated Intercept Coefficent 14.648095446084481\n",
      "Number of coefficents 3\n"
     ]
    }
   ],
   "source": [
    "reg = LinearRegression()\n",
    "reg.fit(X_train,y_train)\n",
    "score = reg.score(X_test,y_test)\n",
    "\n",
    "print(\"Estimated Intercept Coefficent\",reg.intercept_)\n",
    "print(\"Number of coefficents\",len(reg.coef_))\n"
   ]
  },
  {
   "cell_type": "code",
   "execution_count": 26,
   "metadata": {},
   "outputs": [
    {
     "data": {
      "text/html": [
       "<div>\n",
       "<style scoped>\n",
       "    .dataframe tbody tr th:only-of-type {\n",
       "        vertical-align: middle;\n",
       "    }\n",
       "\n",
       "    .dataframe tbody tr th {\n",
       "        vertical-align: top;\n",
       "    }\n",
       "\n",
       "    .dataframe thead th {\n",
       "        text-align: right;\n",
       "    }\n",
       "</style>\n",
       "<table border=\"1\" class=\"dataframe\">\n",
       "  <thead>\n",
       "    <tr style=\"text-align: right;\">\n",
       "      <th></th>\n",
       "      <th>features</th>\n",
       "      <th>EstimatedCoefficent</th>\n",
       "    </tr>\n",
       "  </thead>\n",
       "  <tbody>\n",
       "    <tr>\n",
       "      <th>0</th>\n",
       "      <td>Adj_Close</td>\n",
       "      <td>27.650713</td>\n",
       "    </tr>\n",
       "    <tr>\n",
       "      <th>1</th>\n",
       "      <td>HL-PCT</td>\n",
       "      <td>0.215047</td>\n",
       "    </tr>\n",
       "    <tr>\n",
       "      <th>2</th>\n",
       "      <td>PCT_change</td>\n",
       "      <td>0.206313</td>\n",
       "    </tr>\n",
       "  </tbody>\n",
       "</table>\n",
       "</div>"
      ],
      "text/plain": [
       "     features  EstimatedCoefficent\n",
       "0   Adj_Close            27.650713\n",
       "1      HL-PCT             0.215047\n",
       "2  PCT_change             0.206313"
      ]
     },
     "execution_count": 26,
     "metadata": {},
     "output_type": "execute_result"
    }
   ],
   "source": [
    "coefdf = pd.DataFrame(zip(X.columns,reg.coef_),columns=['features','EstimatedCoefficent'])\n",
    "coefdf"
   ]
  },
  {
   "cell_type": "code",
   "execution_count": 27,
   "metadata": {},
   "outputs": [
    {
     "name": "stdout",
     "output_type": "stream",
     "text": [
      "MSE: 1.5334050043410823\n",
      "LinearReg score 0.9652550591285393\n",
      "[41.58270262 42.00681605 42.60644657 42.13346058 42.09458004 42.26086717\n",
      " 42.24919896 41.1903932  41.19759896 41.31138746]\n"
     ]
    }
   ],
   "source": [
    "forcast = []\n",
    "forecast = reg.predict(X_late)\n",
    "y_pred = reg.predict(X_test)\n",
    "mse = mean_squared_error(y_test,y_pred)\n",
    "print(\"MSE:\",mse)\n",
    "print(\"LinearReg score\",score)\n",
    "print(forecast)"
   ]
  },
  {
   "cell_type": "code",
   "execution_count": null,
   "metadata": {},
   "outputs": [],
   "source": []
  }
 ],
 "metadata": {
  "kernelspec": {
   "display_name": "Python 3",
   "language": "python",
   "name": "python3"
  },
  "language_info": {
   "codemirror_mode": {
    "name": "ipython",
    "version": 3
   },
   "file_extension": ".py",
   "mimetype": "text/x-python",
   "name": "python",
   "nbconvert_exporter": "python",
   "pygments_lexer": "ipython3",
   "version": "3.8.3"
  }
 },
 "nbformat": 4,
 "nbformat_minor": 4
}
